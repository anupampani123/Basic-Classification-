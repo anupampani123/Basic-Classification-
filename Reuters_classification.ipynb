{
  "nbformat": 4,
  "nbformat_minor": 0,
  "metadata": {
    "colab": {
      "provenance": [],
      "authorship_tag": "ABX9TyMz2bYkff1XYH1WX30OZRX9",
      "include_colab_link": true
    },
    "kernelspec": {
      "name": "python3",
      "display_name": "Python 3"
    },
    "language_info": {
      "name": "python"
    }
  },
  "cells": [
    {
      "cell_type": "markdown",
      "metadata": {
        "id": "view-in-github",
        "colab_type": "text"
      },
      "source": [
        "<a href=\"https://colab.research.google.com/github/anupampani123/Basic-Classification-/blob/main/Reuters_classification.ipynb\" target=\"_parent\"><img src=\"https://colab.research.google.com/assets/colab-badge.svg\" alt=\"Open In Colab\"/></a>"
      ]
    },
    {
      "cell_type": "code",
      "execution_count": 2,
      "metadata": {
        "colab": {
          "base_uri": "https://localhost:8080/"
        },
        "id": "sOXpxbuCVOE3",
        "outputId": "6fd73107-3786-43db-9c33-0a53cf622c0d"
      },
      "outputs": [
        {
          "output_type": "stream",
          "name": "stdout",
          "text": [
            "Downloading data from https://storage.googleapis.com/tensorflow/tf-keras-datasets/reuters.npz\n",
            "2110848/2110848 [==============================] - 0s 0us/step\n"
          ]
        }
      ],
      "source": [
        "#classifying news headlines into topics\n",
        "\n",
        "from tensorflow import keras\n",
        "from keras.datasets import reuters\n",
        "\n",
        "(train_data, train_labels), (test_data, test_labels) = reuters.load_data( num_words=10000)"
      ]
    },
    {
      "cell_type": "code",
      "source": [
        "word_index = reuters.get_word_index() \n",
        "reverse_word_index = dict([(value, key) for (key, value) in word_index.items()]) \n",
        "decoded_review = ' '.join([reverse_word_index.get(i - 3, '?') for i in train_data[0]])"
      ],
      "metadata": {
        "colab": {
          "base_uri": "https://localhost:8080/"
        },
        "id": "QA05oU_ZVc9l",
        "outputId": "3368515c-97bf-44b6-a2a7-12b18a3223c0"
      },
      "execution_count": 3,
      "outputs": [
        {
          "output_type": "stream",
          "name": "stdout",
          "text": [
            "Downloading data from https://storage.googleapis.com/tensorflow/tf-keras-datasets/reuters_word_index.json\n",
            "550378/550378 [==============================] - 0s 0us/step\n"
          ]
        }
      ]
    },
    {
      "cell_type": "code",
      "source": [
        "#vectorizing the input\n",
        "num_words= 10000;\n",
        "import numpy as np\n",
        "def vectorize_sequences(sequences,dimension=10000):\n",
        "  results=np.zeros((len(sequences),dimension))\n",
        "  for bloop, sequence in enumerate(sequences):\n",
        "    results[bloop,sequence]=1;\n",
        "  return results\n",
        "\n",
        "x_train = vectorize_sequences(train_data)\n",
        "x_test = vectorize_sequences(test_data)"
      ],
      "metadata": {
        "id": "4YCe5FQAXNiT"
      },
      "execution_count": 4,
      "outputs": []
    },
    {
      "cell_type": "code",
      "source": [
        "#vectorizing the labels since there are 46 labels \n",
        "#one hot encoding\n",
        "\n",
        "def to_one_hot(sequences, dimension=46):\n",
        "  results=np.zeros((len(sequences),dimension))\n",
        "  for bloop,sequence in enumerate(sequences):\n",
        "    results[bloop,sequence]=1;\n",
        "  return results\n",
        "\n",
        "one_hot_train_labels = to_one_hot(train_labels)\n",
        "one_hot_test_labels = to_one_hot(test_labels)"
      ],
      "metadata": {
        "id": "3DviX0xYXaxX"
      },
      "execution_count": 6,
      "outputs": []
    },
    {
      "cell_type": "code",
      "source": [
        "from keras import models\n",
        "from keras import layers\n",
        "model = models.Sequential()\n",
        "model.add(layers.Dense(64, activation='relu', input_shape=(10000,))) \n",
        "model.add(layers.Dense(64, activation='relu')) \n",
        "model.add(layers.Dense(64, activation='relu')) \n",
        "model.add(layers.Dense(46, activation='softmax'))\n",
        "\n",
        "\n"
      ],
      "metadata": {
        "id": "nrCb5LucYYJd"
      },
      "execution_count": 20,
      "outputs": []
    },
    {
      "cell_type": "code",
      "source": [
        "from keras import optimizers\n",
        "model.compile(optimizer=optimizers.RMSprop(lr=0.001), loss='categorical_crossentropy',\n",
        "                      metrics=['accuracy'])"
      ],
      "metadata": {
        "id": "p-Yvcx0YYlEW"
      },
      "execution_count": 21,
      "outputs": []
    },
    {
      "cell_type": "code",
      "source": [
        "x_val = x_train[:1000]\n",
        "partial_x_train = x_train[1000:]\n",
        "y_val = one_hot_train_labels[:1000]\n",
        "partial_y_train = one_hot_train_labels[1000:]"
      ],
      "metadata": {
        "id": "bEUhpBj6Yvod"
      },
      "execution_count": 22,
      "outputs": []
    },
    {
      "cell_type": "code",
      "source": [
        "\n",
        "history = model.fit(partial_x_train, partial_y_train,\n",
        "                    epochs=20,\n",
        "                    batch_size=512,\n",
        "                    validation_data=(x_val, y_val))"
      ],
      "metadata": {
        "colab": {
          "base_uri": "https://localhost:8080/"
        },
        "id": "STeACLR9YwoQ",
        "outputId": "8d492d29-d95a-44d1-9dc4-e8ee980677f9"
      },
      "execution_count": 23,
      "outputs": [
        {
          "output_type": "stream",
          "name": "stdout",
          "text": [
            "Epoch 1/20\n",
            "16/16 [==============================] - 1s 37ms/step - loss: 2.6319 - accuracy: 0.4758 - val_loss: 1.7405 - val_accuracy: 0.6020\n",
            "Epoch 2/20\n",
            "16/16 [==============================] - 0s 30ms/step - loss: 1.4545 - accuracy: 0.6804 - val_loss: 1.3358 - val_accuracy: 0.7000\n",
            "Epoch 3/20\n",
            "16/16 [==============================] - 1s 66ms/step - loss: 1.1027 - accuracy: 0.7533 - val_loss: 1.2171 - val_accuracy: 0.7240\n",
            "Epoch 4/20\n",
            "16/16 [==============================] - 1s 29ms/step - loss: 0.8754 - accuracy: 0.8039 - val_loss: 1.0761 - val_accuracy: 0.7780\n",
            "Epoch 5/20\n",
            "16/16 [==============================] - 0s 28ms/step - loss: 0.6986 - accuracy: 0.8450 - val_loss: 1.0352 - val_accuracy: 0.7750\n",
            "Epoch 6/20\n",
            "16/16 [==============================] - 0s 29ms/step - loss: 0.5418 - accuracy: 0.8817 - val_loss: 1.0228 - val_accuracy: 0.7880\n",
            "Epoch 7/20\n",
            "16/16 [==============================] - 0s 28ms/step - loss: 0.4320 - accuracy: 0.9069 - val_loss: 0.9394 - val_accuracy: 0.8090\n",
            "Epoch 8/20\n",
            "16/16 [==============================] - 0s 30ms/step - loss: 0.3431 - accuracy: 0.9265 - val_loss: 0.9667 - val_accuracy: 0.7930\n",
            "Epoch 9/20\n",
            "16/16 [==============================] - 0s 29ms/step - loss: 0.2821 - accuracy: 0.9392 - val_loss: 0.9586 - val_accuracy: 0.8140\n",
            "Epoch 10/20\n",
            "16/16 [==============================] - 0s 29ms/step - loss: 0.2448 - accuracy: 0.9432 - val_loss: 1.1029 - val_accuracy: 0.7790\n",
            "Epoch 11/20\n",
            "16/16 [==============================] - 0s 28ms/step - loss: 0.1991 - accuracy: 0.9489 - val_loss: 1.0240 - val_accuracy: 0.8100\n",
            "Epoch 12/20\n",
            "16/16 [==============================] - 0s 29ms/step - loss: 0.1878 - accuracy: 0.9509 - val_loss: 1.0021 - val_accuracy: 0.8110\n",
            "Epoch 13/20\n",
            "16/16 [==============================] - 0s 29ms/step - loss: 0.1647 - accuracy: 0.9539 - val_loss: 1.0667 - val_accuracy: 0.8080\n",
            "Epoch 14/20\n",
            "16/16 [==============================] - 0s 29ms/step - loss: 0.1507 - accuracy: 0.9544 - val_loss: 1.1375 - val_accuracy: 0.8010\n",
            "Epoch 15/20\n",
            "16/16 [==============================] - 0s 29ms/step - loss: 0.1422 - accuracy: 0.9564 - val_loss: 1.1423 - val_accuracy: 0.7900\n",
            "Epoch 16/20\n",
            "16/16 [==============================] - 0s 29ms/step - loss: 0.1356 - accuracy: 0.9573 - val_loss: 1.1815 - val_accuracy: 0.7920\n",
            "Epoch 17/20\n",
            "16/16 [==============================] - 0s 29ms/step - loss: 0.1267 - accuracy: 0.9592 - val_loss: 1.1549 - val_accuracy: 0.8120\n",
            "Epoch 18/20\n",
            "16/16 [==============================] - 0s 29ms/step - loss: 0.1240 - accuracy: 0.9568 - val_loss: 1.1469 - val_accuracy: 0.8000\n",
            "Epoch 19/20\n",
            "16/16 [==============================] - 0s 29ms/step - loss: 0.1248 - accuracy: 0.9570 - val_loss: 1.1924 - val_accuracy: 0.8070\n",
            "Epoch 20/20\n",
            "16/16 [==============================] - 0s 29ms/step - loss: 0.1224 - accuracy: 0.9560 - val_loss: 1.1999 - val_accuracy: 0.7940\n"
          ]
        }
      ]
    },
    {
      "cell_type": "code",
      "source": [
        "import matplotlib.pyplot as plt\n",
        "\n",
        "loss = history.history['loss'] \n",
        "val_loss = history.history['val_loss']\n",
        "\n",
        "epochs = range(1, len(loss) + 1)\n",
        "acc = history.history['accuracy']\n",
        "val_acc = history.history['val_accuracy']\n",
        "plt.plot(epochs, acc, 'bo', label='Training acc') \n",
        "plt.plot(epochs, val_acc, 'b', label='Validation acc') \n",
        "plt.title('Training and validation accuracy') \n",
        "plt.xlabel('Epochs')\n",
        "plt.ylabel('Accuracy') \n",
        "plt.legend()"
      ],
      "metadata": {
        "colab": {
          "base_uri": "https://localhost:8080/",
          "height": 313
        },
        "id": "FhDxXL30YzWM",
        "outputId": "d9462593-d362-41f6-cf8e-d4f47c2e735e"
      },
      "execution_count": 24,
      "outputs": [
        {
          "output_type": "execute_result",
          "data": {
            "text/plain": [
              "<matplotlib.legend.Legend at 0x7feba8374910>"
            ]
          },
          "metadata": {},
          "execution_count": 24
        },
        {
          "output_type": "display_data",
          "data": {
            "text/plain": [
              "<Figure size 432x288 with 1 Axes>"
            ],
            "image/png": "[encoded data removed]"
          },
          "metadata": {
            "needs_background": "light"
          }
        }
      ]
    }
  ]
}