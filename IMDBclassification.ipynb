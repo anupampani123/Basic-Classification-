{
  "nbformat": 4,
  "nbformat_minor": 0,
  "metadata": {
    "colab": {
      "provenance": [],
      "collapsed_sections": [],
      "authorship_tag": "ABX9TyNwrK5q+KOluQskge20/QnB",
      "include_colab_link": true
    },
    "kernelspec": {
      "name": "python3",
      "display_name": "Python 3"
    },
    "language_info": {
      "name": "python"
    },
    "accelerator": "GPU",
    "gpuClass": "standard"
  },
  "cells": [
    {
      "cell_type": "markdown",
      "metadata": {
        "id": "view-in-github",
        "colab_type": "text"
      },
      "source": [
        "<a href=\"https://colab.research.google.com/github/anupampani123/Basic-Classification-/blob/main/IMDBclassification.ipynb\" target=\"_parent\"><img src=\"https://colab.research.google.com/assets/colab-badge.svg\" alt=\"Open In Colab\"/></a>"
      ]
    },
    {
      "cell_type": "code",
      "execution_count": 1,
      "metadata": {
        "id": "b-4eKH1z1D6e"
      },
      "outputs": [],
      "source": [
        "#classifying movie reviews\n",
        "\n",
        "from tensorflow import keras\n",
        "from keras.datasets import imdb\n",
        "(train_data, train_labels), (test_data, test_labels) = imdb.load_data( num_words=10000)\n",
        "\n",
        "#10000 means only the 10000 most frequent words are kept in the dataset"
      ]
    },
    {
      "cell_type": "code",
      "source": [
        "word_index = imdb.get_word_index() \n",
        "reverse_word_index = dict([(value, key) for (key, value) in word_index.items()]) \n",
        "decoded_review = ' '.join([reverse_word_index.get(i - 3, '?') for i in train_data[0]])"
      ],
      "metadata": {
        "id": "_Vkml5hG2AJ5"
      },
      "execution_count": 2,
      "outputs": []
    },
    {
      "cell_type": "code",
      "source": [
        "#vectorizing the data\n",
        "num_words= 10000;\n",
        "import numpy as np\n",
        "def vectorize_sequences(sequences,dimension=10000):\n",
        "  results=np.zeros((len(sequences),dimension))\n",
        "  for bloop, sequence in enumerate(sequences):\n",
        "    results[bloop,sequence]=1;\n",
        "  return results\n",
        "\n",
        "\n",
        "x_train = vectorize_sequences(train_data)\n",
        "x_test = vectorize_sequences(test_data)"
      ],
      "metadata": {
        "id": "YGNCb9Zb2gyD"
      },
      "execution_count": 3,
      "outputs": []
    },
    {
      "cell_type": "code",
      "source": [
        "#vectorizing labels\n",
        "y_train = np.asarray(train_labels).astype('float32') \n",
        "y_test = np.asarray(test_labels).astype('float32')\n",
        "\n"
      ],
      "metadata": {
        "id": "fHJSGZYx7X3Y"
      },
      "execution_count": 4,
      "outputs": []
    },
    {
      "cell_type": "code",
      "source": [
        "#building the model\n",
        "\n",
        "from keras import models\n",
        "from keras import layers\n",
        "\n",
        "model=models.Sequential();\n",
        "model.add(layers.Dense(64, activation='relu', input_shape=(10000,))) \n",
        "model.add(layers.Dense(16, activation='relu'))\n",
        "model.add(layers.Dense(16, activation='relu'))\n",
        "model.add(layers.Dense(16, activation='tanh'))\n",
        "model.add(layers.Dense(1, activation='sigmoid'))"
      ],
      "metadata": {
        "id": "PbikQL6u7v-u"
      },
      "execution_count": 5,
      "outputs": []
    },
    {
      "cell_type": "code",
      "source": [
        "from keras import optimizers\n",
        "model.compile(optimizer=optimizers.RMSprop(lr=0.001), loss='binary_crossentropy',\n",
        "                      metrics=['accuracy'])"
      ],
      "metadata": {
        "colab": {
          "base_uri": "https://localhost:8080/"
        },
        "id": "0DKbGve4_2hE",
        "outputId": "99f9af8e-0672-455b-9ec7-0bfa4b7d7d9d"
      },
      "execution_count": 6,
      "outputs": [
        {
          "output_type": "stream",
          "name": "stderr",
          "text": [
            "/usr/local/lib/python3.7/dist-packages/keras/optimizers/optimizer_v2/rmsprop.py:135: UserWarning: The `lr` argument is deprecated, use `learning_rate` instead.\n",
            "  super(RMSprop, self).__init__(name, **kwargs)\n"
          ]
        }
      ]
    },
    {
      "cell_type": "code",
      "source": [
        "#validation set\n",
        "x_val = x_train[:10000]\n",
        "partial_x_train = x_train[10000:]\n",
        "y_val = y_train[:10000]\n",
        "partial_y_train= y_train[10000:]\n"
      ],
      "metadata": {
        "id": "xCOI9smX_4du"
      },
      "execution_count": 7,
      "outputs": []
    },
    {
      "cell_type": "code",
      "source": [
        "history = model.fit(partial_x_train, partial_y_train,\n",
        "                    epochs=100,\n",
        "                    batch_size=256,\n",
        "                    validation_data=(x_val, y_val))"
      ],
      "metadata": {
        "colab": {
          "base_uri": "https://localhost:8080/"
        },
        "id": "e4Aij85IAULT",
        "outputId": "35014848-e022-4ce0-85cf-0b645b2d7eb4"
      },
      "execution_count": 8,
      "outputs": [
        {
          "output_type": "stream",
          "name": "stdout",
          "text": [
            "Epoch 1/100\n",
            "59/59 [==============================] - 4s 23ms/step - loss: 0.4228 - accuracy: 0.8117 - val_loss: 0.4180 - val_accuracy: 0.8195\n",
            "Epoch 2/100\n",
            "59/59 [==============================] - 1s 11ms/step - loss: 0.2237 - accuracy: 0.9141 - val_loss: 0.2732 - val_accuracy: 0.8904\n",
            "Epoch 3/100\n",
            "59/59 [==============================] - 1s 11ms/step - loss: 0.1502 - accuracy: 0.9469 - val_loss: 0.3111 - val_accuracy: 0.8791\n",
            "Epoch 4/100\n",
            "59/59 [==============================] - 1s 13ms/step - loss: 0.1008 - accuracy: 0.9673 - val_loss: 0.3413 - val_accuracy: 0.8774\n",
            "Epoch 5/100\n",
            "59/59 [==============================] - 1s 15ms/step - loss: 0.0650 - accuracy: 0.9795 - val_loss: 0.4690 - val_accuracy: 0.8586\n",
            "Epoch 6/100\n",
            "59/59 [==============================] - 1s 15ms/step - loss: 0.0374 - accuracy: 0.9899 - val_loss: 0.4308 - val_accuracy: 0.8791\n",
            "Epoch 7/100\n",
            "59/59 [==============================] - 1s 11ms/step - loss: 0.0247 - accuracy: 0.9939 - val_loss: 0.5911 - val_accuracy: 0.8541\n",
            "Epoch 8/100\n",
            "59/59 [==============================] - 1s 13ms/step - loss: 0.0167 - accuracy: 0.9961 - val_loss: 0.5342 - val_accuracy: 0.8773\n",
            "Epoch 9/100\n",
            "59/59 [==============================] - 1s 11ms/step - loss: 0.0163 - accuracy: 0.9961 - val_loss: 0.5794 - val_accuracy: 0.8740\n",
            "Epoch 10/100\n",
            "59/59 [==============================] - 1s 11ms/step - loss: 0.0027 - accuracy: 0.9997 - val_loss: 0.6208 - val_accuracy: 0.8764\n",
            "Epoch 11/100\n",
            "59/59 [==============================] - 1s 11ms/step - loss: 0.0135 - accuracy: 0.9969 - val_loss: 0.6575 - val_accuracy: 0.8756\n",
            "Epoch 12/100\n",
            "59/59 [==============================] - 1s 13ms/step - loss: 0.0144 - accuracy: 0.9964 - val_loss: 0.7067 - val_accuracy: 0.8719\n",
            "Epoch 13/100\n",
            "59/59 [==============================] - 1s 11ms/step - loss: 9.4527e-04 - accuracy: 0.9999 - val_loss: 0.7292 - val_accuracy: 0.8741\n",
            "Epoch 14/100\n",
            "59/59 [==============================] - 1s 12ms/step - loss: 0.0067 - accuracy: 0.9983 - val_loss: 0.7617 - val_accuracy: 0.8735\n",
            "Epoch 15/100\n",
            "59/59 [==============================] - 1s 11ms/step - loss: 4.1912e-04 - accuracy: 0.9999 - val_loss: 0.8113 - val_accuracy: 0.8738\n",
            "Epoch 16/100\n",
            "59/59 [==============================] - 1s 13ms/step - loss: 1.8053e-04 - accuracy: 0.9999 - val_loss: 0.9186 - val_accuracy: 0.8734\n",
            "Epoch 17/100\n",
            "59/59 [==============================] - 1s 11ms/step - loss: 0.0159 - accuracy: 0.9975 - val_loss: 0.9542 - val_accuracy: 0.8724\n",
            "Epoch 18/100\n",
            "59/59 [==============================] - 1s 11ms/step - loss: 3.5267e-05 - accuracy: 1.0000 - val_loss: 0.9639 - val_accuracy: 0.8730\n",
            "Epoch 19/100\n",
            "59/59 [==============================] - 1s 12ms/step - loss: 2.6841e-05 - accuracy: 1.0000 - val_loss: 1.0261 - val_accuracy: 0.8730\n",
            "Epoch 20/100\n",
            "59/59 [==============================] - 1s 13ms/step - loss: 1.2723e-05 - accuracy: 1.0000 - val_loss: 1.1311 - val_accuracy: 0.8740\n",
            "Epoch 21/100\n",
            "59/59 [==============================] - 1s 13ms/step - loss: 5.3574e-06 - accuracy: 1.0000 - val_loss: 1.2505 - val_accuracy: 0.8743\n",
            "Epoch 22/100\n",
            "59/59 [==============================] - 1s 12ms/step - loss: 2.3494e-06 - accuracy: 1.0000 - val_loss: 1.3516 - val_accuracy: 0.8743\n",
            "Epoch 23/100\n",
            "59/59 [==============================] - 1s 11ms/step - loss: 1.0723e-06 - accuracy: 1.0000 - val_loss: 1.4370 - val_accuracy: 0.8744\n",
            "Epoch 24/100\n",
            "59/59 [==============================] - 1s 11ms/step - loss: 5.1159e-07 - accuracy: 1.0000 - val_loss: 1.5126 - val_accuracy: 0.8743\n",
            "Epoch 25/100\n",
            "59/59 [==============================] - 1s 11ms/step - loss: 2.6103e-07 - accuracy: 1.0000 - val_loss: 1.5781 - val_accuracy: 0.8744\n",
            "Epoch 26/100\n",
            "59/59 [==============================] - 1s 11ms/step - loss: 1.4606e-07 - accuracy: 1.0000 - val_loss: 1.6325 - val_accuracy: 0.8743\n",
            "Epoch 27/100\n",
            "59/59 [==============================] - 1s 13ms/step - loss: 9.0113e-08 - accuracy: 1.0000 - val_loss: 1.6759 - val_accuracy: 0.8743\n",
            "Epoch 28/100\n",
            "59/59 [==============================] - 1s 11ms/step - loss: 6.1771e-08 - accuracy: 1.0000 - val_loss: 1.7121 - val_accuracy: 0.8743\n",
            "Epoch 29/100\n",
            "59/59 [==============================] - 1s 11ms/step - loss: 4.4182e-08 - accuracy: 1.0000 - val_loss: 1.7446 - val_accuracy: 0.8743\n",
            "Epoch 30/100\n",
            "59/59 [==============================] - 1s 11ms/step - loss: 3.2639e-08 - accuracy: 1.0000 - val_loss: 1.7705 - val_accuracy: 0.8743\n",
            "Epoch 31/100\n",
            "59/59 [==============================] - 1s 11ms/step - loss: 2.7361e-08 - accuracy: 1.0000 - val_loss: 1.7832 - val_accuracy: 0.8743\n",
            "Epoch 32/100\n",
            "59/59 [==============================] - 1s 10ms/step - loss: 2.4427e-08 - accuracy: 1.0000 - val_loss: 1.7944 - val_accuracy: 0.8743\n",
            "Epoch 33/100\n",
            "59/59 [==============================] - 1s 11ms/step - loss: 2.2104e-08 - accuracy: 1.0000 - val_loss: 1.8047 - val_accuracy: 0.8745\n",
            "Epoch 34/100\n",
            "59/59 [==============================] - 1s 11ms/step - loss: 2.0207e-08 - accuracy: 1.0000 - val_loss: 1.8143 - val_accuracy: 0.8740\n",
            "Epoch 35/100\n",
            "59/59 [==============================] - 1s 11ms/step - loss: 1.8615e-08 - accuracy: 1.0000 - val_loss: 1.8233 - val_accuracy: 0.8741\n",
            "Epoch 36/100\n",
            "59/59 [==============================] - 1s 13ms/step - loss: 1.7258e-08 - accuracy: 1.0000 - val_loss: 1.8318 - val_accuracy: 0.8739\n",
            "Epoch 37/100\n",
            "59/59 [==============================] - 1s 11ms/step - loss: 1.6084e-08 - accuracy: 1.0000 - val_loss: 1.8399 - val_accuracy: 0.8738\n",
            "Epoch 38/100\n",
            "59/59 [==============================] - 1s 13ms/step - loss: 1.5063e-08 - accuracy: 1.0000 - val_loss: 1.8476 - val_accuracy: 0.8739\n",
            "Epoch 39/100\n",
            "59/59 [==============================] - 1s 14ms/step - loss: 1.4174e-08 - accuracy: 1.0000 - val_loss: 1.8550 - val_accuracy: 0.8742\n",
            "Epoch 40/100\n",
            "59/59 [==============================] - 1s 14ms/step - loss: 1.3376e-08 - accuracy: 1.0000 - val_loss: 1.8620 - val_accuracy: 0.8745\n",
            "Epoch 41/100\n",
            "59/59 [==============================] - 1s 20ms/step - loss: 1.2662e-08 - accuracy: 1.0000 - val_loss: 1.8686 - val_accuracy: 0.8738\n",
            "Epoch 42/100\n",
            "59/59 [==============================] - 1s 12ms/step - loss: 1.2026e-08 - accuracy: 1.0000 - val_loss: 1.8751 - val_accuracy: 0.8736\n",
            "Epoch 43/100\n",
            "59/59 [==============================] - 1s 13ms/step - loss: 1.1452e-08 - accuracy: 1.0000 - val_loss: 1.8812 - val_accuracy: 0.8738\n",
            "Epoch 44/100\n",
            "59/59 [==============================] - 1s 14ms/step - loss: 1.0930e-08 - accuracy: 1.0000 - val_loss: 1.8870 - val_accuracy: 0.8735\n",
            "Epoch 45/100\n",
            "59/59 [==============================] - 1s 11ms/step - loss: 1.0455e-08 - accuracy: 1.0000 - val_loss: 1.8926 - val_accuracy: 0.8733\n",
            "Epoch 46/100\n",
            "59/59 [==============================] - 1s 13ms/step - loss: 1.0021e-08 - accuracy: 1.0000 - val_loss: 1.8980 - val_accuracy: 0.8733\n",
            "Epoch 47/100\n",
            "59/59 [==============================] - 1s 15ms/step - loss: 9.6215e-09 - accuracy: 1.0000 - val_loss: 1.9032 - val_accuracy: 0.8737\n",
            "Epoch 48/100\n",
            "59/59 [==============================] - 1s 11ms/step - loss: 9.2552e-09 - accuracy: 1.0000 - val_loss: 1.9082 - val_accuracy: 0.8738\n",
            "Epoch 49/100\n",
            "59/59 [==============================] - 1s 11ms/step - loss: 8.9133e-09 - accuracy: 1.0000 - val_loss: 1.9130 - val_accuracy: 0.8735\n",
            "Epoch 50/100\n",
            "59/59 [==============================] - 1s 11ms/step - loss: 8.5976e-09 - accuracy: 1.0000 - val_loss: 1.9176 - val_accuracy: 0.8736\n",
            "Epoch 51/100\n",
            "59/59 [==============================] - 1s 13ms/step - loss: 8.3038e-09 - accuracy: 1.0000 - val_loss: 1.9221 - val_accuracy: 0.8734\n",
            "Epoch 52/100\n",
            "59/59 [==============================] - 1s 13ms/step - loss: 8.0287e-09 - accuracy: 1.0000 - val_loss: 1.9264 - val_accuracy: 0.8731\n",
            "Epoch 53/100\n",
            "59/59 [==============================] - 1s 13ms/step - loss: 7.7740e-09 - accuracy: 1.0000 - val_loss: 1.9306 - val_accuracy: 0.8729\n",
            "Epoch 54/100\n",
            "59/59 [==============================] - 1s 11ms/step - loss: 7.5337e-09 - accuracy: 1.0000 - val_loss: 1.9347 - val_accuracy: 0.8728\n",
            "Epoch 55/100\n",
            "59/59 [==============================] - 1s 11ms/step - loss: 7.3073e-09 - accuracy: 1.0000 - val_loss: 1.9387 - val_accuracy: 0.8729\n",
            "Epoch 56/100\n",
            "59/59 [==============================] - 1s 11ms/step - loss: 7.0957e-09 - accuracy: 1.0000 - val_loss: 1.9425 - val_accuracy: 0.8724\n",
            "Epoch 57/100\n",
            "59/59 [==============================] - 1s 11ms/step - loss: 6.8973e-09 - accuracy: 1.0000 - val_loss: 1.9463 - val_accuracy: 0.8726\n",
            "Epoch 58/100\n",
            "59/59 [==============================] - 1s 11ms/step - loss: 6.7081e-09 - accuracy: 1.0000 - val_loss: 1.9499 - val_accuracy: 0.8722\n",
            "Epoch 59/100\n",
            "59/59 [==============================] - 1s 11ms/step - loss: 6.5307e-09 - accuracy: 1.0000 - val_loss: 1.9534 - val_accuracy: 0.8720\n",
            "Epoch 60/100\n",
            "59/59 [==============================] - 1s 11ms/step - loss: 6.3617e-09 - accuracy: 1.0000 - val_loss: 1.9569 - val_accuracy: 0.8718\n",
            "Epoch 61/100\n",
            "59/59 [==============================] - 1s 11ms/step - loss: 6.2026e-09 - accuracy: 1.0000 - val_loss: 1.9603 - val_accuracy: 0.8716\n",
            "Epoch 62/100\n",
            "59/59 [==============================] - 1s 11ms/step - loss: 6.0504e-09 - accuracy: 1.0000 - val_loss: 1.9636 - val_accuracy: 0.8714\n",
            "Epoch 63/100\n",
            "59/59 [==============================] - 1s 13ms/step - loss: 5.9065e-09 - accuracy: 1.0000 - val_loss: 1.9668 - val_accuracy: 0.8713\n",
            "Epoch 64/100\n",
            "59/59 [==============================] - 1s 11ms/step - loss: 5.7689e-09 - accuracy: 1.0000 - val_loss: 1.9699 - val_accuracy: 0.8713\n",
            "Epoch 65/100\n",
            "59/59 [==============================] - 1s 11ms/step - loss: 5.6379e-09 - accuracy: 1.0000 - val_loss: 1.9731 - val_accuracy: 0.8711\n",
            "Epoch 66/100\n",
            "59/59 [==============================] - 1s 13ms/step - loss: 5.5130e-09 - accuracy: 1.0000 - val_loss: 1.9761 - val_accuracy: 0.8712\n",
            "Epoch 67/100\n",
            "59/59 [==============================] - 1s 13ms/step - loss: 5.3940e-09 - accuracy: 1.0000 - val_loss: 1.9791 - val_accuracy: 0.8713\n",
            "Epoch 68/100\n",
            "59/59 [==============================] - 1s 11ms/step - loss: 5.2804e-09 - accuracy: 1.0000 - val_loss: 1.9821 - val_accuracy: 0.8713\n",
            "Epoch 69/100\n",
            "59/59 [==============================] - 1s 14ms/step - loss: 5.1708e-09 - accuracy: 1.0000 - val_loss: 1.9850 - val_accuracy: 0.8710\n",
            "Epoch 70/100\n",
            "59/59 [==============================] - 1s 15ms/step - loss: 5.0661e-09 - accuracy: 1.0000 - val_loss: 1.9878 - val_accuracy: 0.8710\n",
            "Epoch 71/100\n",
            "59/59 [==============================] - 1s 14ms/step - loss: 4.9663e-09 - accuracy: 1.0000 - val_loss: 1.9906 - val_accuracy: 0.8712\n",
            "Epoch 72/100\n",
            "59/59 [==============================] - 1s 12ms/step - loss: 4.8699e-09 - accuracy: 1.0000 - val_loss: 1.9933 - val_accuracy: 0.8712\n",
            "Epoch 73/100\n",
            "59/59 [==============================] - 1s 12ms/step - loss: 4.7776e-09 - accuracy: 1.0000 - val_loss: 1.9960 - val_accuracy: 0.8713\n",
            "Epoch 74/100\n",
            "59/59 [==============================] - 1s 11ms/step - loss: 4.6887e-09 - accuracy: 1.0000 - val_loss: 1.9986 - val_accuracy: 0.8710\n",
            "Epoch 75/100\n",
            "59/59 [==============================] - 1s 11ms/step - loss: 4.6031e-09 - accuracy: 1.0000 - val_loss: 2.0012 - val_accuracy: 0.8707\n",
            "Epoch 76/100\n",
            "59/59 [==============================] - 1s 11ms/step - loss: 4.5206e-09 - accuracy: 1.0000 - val_loss: 2.0037 - val_accuracy: 0.8707\n",
            "Epoch 77/100\n",
            "59/59 [==============================] - 1s 13ms/step - loss: 4.4413e-09 - accuracy: 1.0000 - val_loss: 2.0062 - val_accuracy: 0.8707\n",
            "Epoch 78/100\n",
            "59/59 [==============================] - 1s 11ms/step - loss: 4.3646e-09 - accuracy: 1.0000 - val_loss: 2.0087 - val_accuracy: 0.8707\n",
            "Epoch 79/100\n",
            "59/59 [==============================] - 1s 11ms/step - loss: 4.2912e-09 - accuracy: 1.0000 - val_loss: 2.0111 - val_accuracy: 0.8707\n",
            "Epoch 80/100\n",
            "59/59 [==============================] - 1s 13ms/step - loss: 4.2200e-09 - accuracy: 1.0000 - val_loss: 2.0135 - val_accuracy: 0.8708\n",
            "Epoch 81/100\n",
            "59/59 [==============================] - 1s 11ms/step - loss: 4.1509e-09 - accuracy: 1.0000 - val_loss: 2.0158 - val_accuracy: 0.8707\n",
            "Epoch 82/100\n",
            "59/59 [==============================] - 1s 13ms/step - loss: 4.0844e-09 - accuracy: 1.0000 - val_loss: 2.0181 - val_accuracy: 0.8704\n",
            "Epoch 83/100\n",
            "59/59 [==============================] - 1s 13ms/step - loss: 4.0200e-09 - accuracy: 1.0000 - val_loss: 2.0203 - val_accuracy: 0.8703\n",
            "Epoch 84/100\n",
            "59/59 [==============================] - 1s 11ms/step - loss: 3.9575e-09 - accuracy: 1.0000 - val_loss: 2.0226 - val_accuracy: 0.8704\n",
            "Epoch 85/100\n",
            "59/59 [==============================] - 1s 11ms/step - loss: 3.8972e-09 - accuracy: 1.0000 - val_loss: 2.0247 - val_accuracy: 0.8703\n",
            "Epoch 86/100\n",
            "59/59 [==============================] - 1s 11ms/step - loss: 3.8387e-09 - accuracy: 1.0000 - val_loss: 2.0269 - val_accuracy: 0.8700\n",
            "Epoch 87/100\n",
            "59/59 [==============================] - 1s 11ms/step - loss: 3.7819e-09 - accuracy: 1.0000 - val_loss: 2.0290 - val_accuracy: 0.8702\n",
            "Epoch 88/100\n",
            "59/59 [==============================] - 1s 11ms/step - loss: 3.7272e-09 - accuracy: 1.0000 - val_loss: 2.0311 - val_accuracy: 0.8703\n",
            "Epoch 89/100\n",
            "59/59 [==============================] - 1s 13ms/step - loss: 3.6739e-09 - accuracy: 1.0000 - val_loss: 2.0332 - val_accuracy: 0.8702\n",
            "Epoch 90/100\n",
            "59/59 [==============================] - 1s 11ms/step - loss: 3.6219e-09 - accuracy: 1.0000 - val_loss: 2.0352 - val_accuracy: 0.8702\n",
            "Epoch 91/100\n",
            "59/59 [==============================] - 1s 11ms/step - loss: 3.5719e-09 - accuracy: 1.0000 - val_loss: 2.0372 - val_accuracy: 0.8704\n",
            "Epoch 92/100\n",
            "59/59 [==============================] - 1s 11ms/step - loss: 3.5231e-09 - accuracy: 1.0000 - val_loss: 2.0392 - val_accuracy: 0.8703\n",
            "Epoch 93/100\n",
            "59/59 [==============================] - 1s 11ms/step - loss: 3.4755e-09 - accuracy: 1.0000 - val_loss: 2.0412 - val_accuracy: 0.8704\n",
            "Epoch 94/100\n",
            "59/59 [==============================] - 1s 11ms/step - loss: 3.4293e-09 - accuracy: 1.0000 - val_loss: 2.0431 - val_accuracy: 0.8704\n",
            "Epoch 95/100\n",
            "59/59 [==============================] - 1s 11ms/step - loss: 3.3846e-09 - accuracy: 1.0000 - val_loss: 2.0450 - val_accuracy: 0.8704\n",
            "Epoch 96/100\n",
            "59/59 [==============================] - 1s 11ms/step - loss: 3.3407e-09 - accuracy: 1.0000 - val_loss: 2.0469 - val_accuracy: 0.8704\n",
            "Epoch 97/100\n",
            "59/59 [==============================] - 1s 13ms/step - loss: 3.2983e-09 - accuracy: 1.0000 - val_loss: 2.0487 - val_accuracy: 0.8706\n",
            "Epoch 98/100\n",
            "59/59 [==============================] - 1s 13ms/step - loss: 3.2568e-09 - accuracy: 1.0000 - val_loss: 2.0505 - val_accuracy: 0.8706\n",
            "Epoch 99/100\n",
            "59/59 [==============================] - 1s 11ms/step - loss: 3.2164e-09 - accuracy: 1.0000 - val_loss: 2.0523 - val_accuracy: 0.8706\n",
            "Epoch 100/100\n",
            "59/59 [==============================] - 1s 12ms/step - loss: 3.1771e-09 - accuracy: 1.0000 - val_loss: 2.0541 - val_accuracy: 0.8706\n"
          ]
        }
      ]
    },
    {
      "cell_type": "code",
      "source": [
        "results = model.evaluate(x_test, y_test)"
      ],
      "metadata": {
        "colab": {
          "base_uri": "https://localhost:8080/"
        },
        "id": "IqfSUff3BTe-",
        "outputId": "6a4af9b8-879d-4ec2-c515-f72b08246189"
      },
      "execution_count": 9,
      "outputs": [
        {
          "output_type": "stream",
          "name": "stdout",
          "text": [
            "782/782 [==============================] - 2s 3ms/step - loss: 2.3626 - accuracy: 0.8518\n"
          ]
        }
      ]
    }
  ]
}